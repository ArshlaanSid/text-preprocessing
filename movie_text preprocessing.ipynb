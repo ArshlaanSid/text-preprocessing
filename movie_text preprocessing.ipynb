{
 "cells": [
  {
   "cell_type": "markdown",
   "id": "937a5e74",
   "metadata": {},
   "source": [
    "# Scrape Data From TMDB"
   ]
  },
  {
   "cell_type": "code",
   "execution_count": 88,
   "id": "dad361de",
   "metadata": {},
   "outputs": [],
   "source": [
    "import time"
   ]
  },
  {
   "cell_type": "code",
   "execution_count": 94,
   "id": "3ba17d74",
   "metadata": {},
   "outputs": [],
   "source": [
    "import requests\n",
    "\n",
    "headers = {\n",
    "    \"accept\": \"application/json\",\n",
    "}\n",
    "params = {\"api_key\": \"6bb57152294ead8d0b9c28c0751fa529\"}\n",
    "t1 = time.time()\n",
    "genre_response = requests.get(\"https://api.themoviedb.org/3/genre/movie/list?language=en\", params = params,headers=headers)\n",
    "genre_data = genre_response.json()['genres']\n",
    "\n",
    "movies = {'title':[], 'genre': [], 'overview': []}\n",
    "for m in range(1,453):\n",
    "    url = \"https://api.themoviedb.org/3/movie/top_rated?language=en-US&page=\" + str(m)\n",
    "    response = requests.get(url, headers=headers, params = params)\n",
    "    \n",
    "    for k in range(0,20):\n",
    "        try:\n",
    "            title = response.json()['results'][k]['title']\n",
    "            overview = response.json()['results'][k]['overview']\n",
    "            genre_id = response.json()['results'][k]['genre_ids']\n",
    "        except:\n",
    "            break\n",
    "        genre = []\n",
    "        for i in genre_id:\n",
    "            for j in genre_data:\n",
    "                if j['id'] == i:\n",
    "                    genre.append(j['name'])\n",
    "                elif len(genre_id) == len(genre):\n",
    "                    break\n",
    "        movies['title'].append(title)\n",
    "        movies['genre'].append(genre)\n",
    "        movies['overview'].append(overview)\n",
    "t2 = time.time()"
   ]
  },
  {
   "cell_type": "code",
   "execution_count": 100,
   "id": "1838c636",
   "metadata": {},
   "outputs": [],
   "source": [
    "import pandas as pd\n",
    "df = pd.DataFrame(movies)"
   ]
  },
  {
   "cell_type": "code",
   "execution_count": 102,
   "id": "b31ee239",
   "metadata": {},
   "outputs": [
    {
     "data": {
      "text/html": [
       "<div>\n",
       "<style scoped>\n",
       "    .dataframe tbody tr th:only-of-type {\n",
       "        vertical-align: middle;\n",
       "    }\n",
       "\n",
       "    .dataframe tbody tr th {\n",
       "        vertical-align: top;\n",
       "    }\n",
       "\n",
       "    .dataframe thead th {\n",
       "        text-align: right;\n",
       "    }\n",
       "</style>\n",
       "<table border=\"1\" class=\"dataframe\">\n",
       "  <thead>\n",
       "    <tr style=\"text-align: right;\">\n",
       "      <th></th>\n",
       "      <th>title</th>\n",
       "      <th>genre</th>\n",
       "      <th>overview</th>\n",
       "    </tr>\n",
       "  </thead>\n",
       "  <tbody>\n",
       "    <tr>\n",
       "      <th>0</th>\n",
       "      <td>The Godfather</td>\n",
       "      <td>[Drama, Crime]</td>\n",
       "      <td>Spanning the years 1945 to 1955, a chronicle o...</td>\n",
       "    </tr>\n",
       "    <tr>\n",
       "      <th>1</th>\n",
       "      <td>The Shawshank Redemption</td>\n",
       "      <td>[Drama, Crime]</td>\n",
       "      <td>Framed in the 1940s for the double murder of h...</td>\n",
       "    </tr>\n",
       "    <tr>\n",
       "      <th>2</th>\n",
       "      <td>The Godfather Part II</td>\n",
       "      <td>[Drama, Crime]</td>\n",
       "      <td>In the continuing saga of the Corleone crime f...</td>\n",
       "    </tr>\n",
       "    <tr>\n",
       "      <th>3</th>\n",
       "      <td>Schindler's List</td>\n",
       "      <td>[Drama, History, War]</td>\n",
       "      <td>The true story of how businessman Oskar Schind...</td>\n",
       "    </tr>\n",
       "    <tr>\n",
       "      <th>4</th>\n",
       "      <td>Dilwale Dulhania Le Jayenge</td>\n",
       "      <td>[Comedy, Drama, Romance]</td>\n",
       "      <td>Raj is a rich, carefree, happy-go-lucky second...</td>\n",
       "    </tr>\n",
       "  </tbody>\n",
       "</table>\n",
       "</div>"
      ],
      "text/plain": [
       "                         title                     genre                                           overview\n",
       "0                The Godfather            [Drama, Crime]  Spanning the years 1945 to 1955, a chronicle o...\n",
       "1     The Shawshank Redemption            [Drama, Crime]  Framed in the 1940s for the double murder of h...\n",
       "2        The Godfather Part II            [Drama, Crime]  In the continuing saga of the Corleone crime f...\n",
       "3             Schindler's List     [Drama, History, War]  The true story of how businessman Oskar Schind...\n",
       "4  Dilwale Dulhania Le Jayenge  [Comedy, Drama, Romance]  Raj is a rich, carefree, happy-go-lucky second..."
      ]
     },
     "execution_count": 102,
     "metadata": {},
     "output_type": "execute_result"
    }
   ],
   "source": [
    "df.head()"
   ]
  },
  {
   "cell_type": "markdown",
   "id": "def03a04",
   "metadata": {},
   "source": [
    "# TEXT PREPROCESSING FOR NLP"
   ]
  },
  {
   "cell_type": "markdown",
   "id": "b283a724",
   "metadata": {},
   "source": [
    "                                    LOWER CASE"
   ]
  },
  {
   "cell_type": "code",
   "execution_count": 107,
   "id": "4f45239c",
   "metadata": {},
   "outputs": [],
   "source": [
    "df['overview'] = df['overview'].str.lower()"
   ]
  },
  {
   "cell_type": "code",
   "execution_count": 110,
   "id": "abde4155",
   "metadata": {},
   "outputs": [
    {
     "data": {
      "text/plain": [
       "'ashitaka, a prince of the disappearing emishi people, is cursed by a demonized boar god and must journey to the west to find a cure. along the way, he encounters san, a young human woman fighting to protect the forest, and lady eboshi, who is trying to destroy it. ashitaka must find a way to bring balance to this conflict.'"
      ]
     },
     "execution_count": 110,
     "metadata": {},
     "output_type": "execute_result"
    }
   ],
   "source": [
    "df['overview'][53]"
   ]
  },
  {
   "cell_type": "markdown",
   "id": "92a28749",
   "metadata": {},
   "source": [
    "                                    REMOVE PUNCTUATIONS"
   ]
  },
  {
   "cell_type": "code",
   "execution_count": 114,
   "id": "d9169ab0",
   "metadata": {},
   "outputs": [
    {
     "data": {
      "text/plain": [
       "'!\"#$%&\\'()*+,-./:;<=>?@[\\\\]^_`{|}~'"
      ]
     },
     "execution_count": 114,
     "metadata": {},
     "output_type": "execute_result"
    }
   ],
   "source": [
    "import string\n",
    "string.punctuation"
   ]
  },
  {
   "cell_type": "code",
   "execution_count": 115,
   "id": "3ec60c9c",
   "metadata": {},
   "outputs": [
    {
     "data": {
      "text/plain": [
       "'ashitaka a prince of the disappearing emishi people is cursed by a demonized boar god and must journey to the west to find a cure along the way he encounters san a young human woman fighting to protect the forest and lady eboshi who is trying to destroy it ashitaka must find a way to bring balance to this conflict'"
      ]
     },
     "execution_count": 115,
     "metadata": {},
     "output_type": "execute_result"
    }
   ],
   "source": [
    "def remove_punctuation(text):\n",
    "    translator = str.maketrans('', '', string.punctuation)\n",
    "    return text.translate(translator)\n",
    "\n",
    "remove_punctuation(df['overview'][53])"
   ]
  },
  {
   "cell_type": "code",
   "execution_count": 117,
   "id": "05e08376",
   "metadata": {},
   "outputs": [],
   "source": [
    "df['overview'] = df['overview'].apply(remove_punctuation)"
   ]
  },
  {
   "cell_type": "markdown",
   "id": "3625497e",
   "metadata": {},
   "source": [
    "                                   REMOVES STOP WORDS"
   ]
  },
  {
   "cell_type": "code",
   "execution_count": 143,
   "id": "58d86617",
   "metadata": {},
   "outputs": [
    {
     "name": "stderr",
     "output_type": "stream",
     "text": [
      "[nltk_data] Downloading package stopwords to\n",
      "[nltk_data]     C:\\Users\\dell\\AppData\\Roaming\\nltk_data...\n",
      "[nltk_data]   Package stopwords is already up-to-date!\n"
     ]
    }
   ],
   "source": [
    "import nltk\n",
    "from nltk.corpus import stopwords\n",
    "nltk.download('stopwords')\n",
    "stop_words = stopwords.words('english')\n",
    "def remove_stop_words(text):\n",
    "    text = text.split(' ')\n",
    "    new_text = []\n",
    "    for i in text:\n",
    "        if i not in set(stop_words):\n",
    "            new_text.append(i)\n",
    "    return ' '.join(new_text)"
   ]
  },
  {
   "cell_type": "code",
   "execution_count": 144,
   "id": "44ede8d6",
   "metadata": {},
   "outputs": [
    {
     "data": {
      "text/plain": [
       "'ashitaka prince disappearing emishi people cursed demonized boar god must journey west find cure along way encounters san young human woman fighting protect forest lady eboshi trying destroy ashitaka must find way bring balance conflict'"
      ]
     },
     "execution_count": 144,
     "metadata": {},
     "output_type": "execute_result"
    }
   ],
   "source": [
    "remove_stop_words(df['overview'][53])"
   ]
  },
  {
   "cell_type": "code",
   "execution_count": 146,
   "id": "c5446faa",
   "metadata": {},
   "outputs": [],
   "source": [
    "df['overview'] = df['overview'].apply(remove_stop_words)"
   ]
  },
  {
   "cell_type": "markdown",
   "id": "e90a95ad",
   "metadata": {},
   "source": [
    "                                SPELLING CORRECTION"
   ]
  },
  {
   "cell_type": "code",
   "execution_count": 148,
   "id": "91b0b413",
   "metadata": {},
   "outputs": [
    {
     "name": "stdout",
     "output_type": "stream",
     "text": [
      "Collecting textblob\n",
      "  Downloading textblob-0.17.1-py2.py3-none-any.whl (636 kB)\n",
      "     ------------------------------------- 636.8/636.8 kB 13.3 MB/s eta 0:00:00\n",
      "Requirement already satisfied: nltk>=3.1 in c:\\users\\dell\\appdata\\local\\programs\\python\\python311\\lib\\site-packages (from textblob) (3.8.1)\n",
      "Requirement already satisfied: click in c:\\users\\dell\\appdata\\local\\programs\\python\\python311\\lib\\site-packages (from nltk>=3.1->textblob) (8.1.7)\n",
      "Requirement already satisfied: joblib in c:\\users\\dell\\appdata\\local\\programs\\python\\python311\\lib\\site-packages (from nltk>=3.1->textblob) (1.2.0)\n",
      "Requirement already satisfied: regex>=2021.8.3 in c:\\users\\dell\\appdata\\local\\programs\\python\\python311\\lib\\site-packages (from nltk>=3.1->textblob) (2023.10.3)\n",
      "Requirement already satisfied: tqdm in c:\\users\\dell\\appdata\\local\\programs\\python\\python311\\lib\\site-packages (from nltk>=3.1->textblob) (4.65.0)\n",
      "Requirement already satisfied: colorama in c:\\users\\dell\\appdata\\local\\programs\\python\\python311\\lib\\site-packages (from click->nltk>=3.1->textblob) (0.4.6)\n",
      "Installing collected packages: textblob\n",
      "Successfully installed textblob-0.17.1\n",
      "Note: you may need to restart the kernel to use updated packages.\n"
     ]
    },
    {
     "name": "stderr",
     "output_type": "stream",
     "text": [
      "\n",
      "[notice] A new release of pip is available: 23.0.1 -> 23.3.2\n",
      "[notice] To update, run: python.exe -m pip install --upgrade pip\n"
     ]
    }
   ],
   "source": [
    "pip install textblob"
   ]
  },
  {
   "cell_type": "code",
   "execution_count": 155,
   "id": "304e5647",
   "metadata": {},
   "outputs": [
    {
     "data": {
      "text/plain": [
       "'grammar with arshlaan'"
      ]
     },
     "execution_count": 155,
     "metadata": {},
     "output_type": "execute_result"
    }
   ],
   "source": [
    "from textblob import TextBlob\n",
    "def spell_corrector(text):\n",
    "    \n",
    "    return str(TextBlob(text).correct())\n",
    "spell_corrector('grammer with arshlaan')"
   ]
  },
  {
   "cell_type": "code",
   "execution_count": 156,
   "id": "19391a41",
   "metadata": {},
   "outputs": [],
   "source": [
    "# do not re-run its not neccessary, spellings are already correct\n",
    "# df['overview'] = df['overview'].apply(spell_corrector)"
   ]
  },
  {
   "cell_type": "markdown",
   "id": "830e27d7",
   "metadata": {},
   "source": [
    "                            TOKENIZE TEXT"
   ]
  },
  {
   "cell_type": "code",
   "execution_count": 157,
   "id": "65c42693",
   "metadata": {},
   "outputs": [
    {
     "name": "stderr",
     "output_type": "stream",
     "text": [
      "[nltk_data] Downloading package punkt to\n",
      "[nltk_data]     C:\\Users\\dell\\AppData\\Roaming\\nltk_data...\n",
      "[nltk_data]   Package punkt is already up-to-date!\n"
     ]
    }
   ],
   "source": [
    "import nltk\n",
    "nltk.download('punkt')  # Download the Punkt tokenizer data\n",
    "\n",
    "from nltk.tokenize import word_tokenize\n",
    "\n",
    "def tokenize_text(text):\n",
    "    tokens = word_tokenize(text)\n",
    "    return tokens"
   ]
  },
  {
   "cell_type": "code",
   "execution_count": 161,
   "id": "e7e38b19",
   "metadata": {},
   "outputs": [
    {
     "data": {
      "text/plain": [
       "['separated',\n",
       " 'daughter',\n",
       " 'father',\n",
       " 'intellectual',\n",
       " 'disability',\n",
       " 'must',\n",
       " 'prove',\n",
       " 'innocence',\n",
       " 'jailed',\n",
       " 'death',\n",
       " 'commanders',\n",
       " 'child']"
      ]
     },
     "execution_count": 161,
     "metadata": {},
     "output_type": "execute_result"
    }
   ],
   "source": [
    "tokenize_text(df['overview'][79])"
   ]
  },
  {
   "cell_type": "code",
   "execution_count": 163,
   "id": "585a293b",
   "metadata": {},
   "outputs": [],
   "source": [
    "df['overview'] = df['overview'].apply(tokenize_text)"
   ]
  },
  {
   "cell_type": "code",
   "execution_count": 164,
   "id": "eb972a6f",
   "metadata": {},
   "outputs": [
    {
     "data": {
      "text/html": [
       "<div>\n",
       "<style scoped>\n",
       "    .dataframe tbody tr th:only-of-type {\n",
       "        vertical-align: middle;\n",
       "    }\n",
       "\n",
       "    .dataframe tbody tr th {\n",
       "        vertical-align: top;\n",
       "    }\n",
       "\n",
       "    .dataframe thead th {\n",
       "        text-align: right;\n",
       "    }\n",
       "</style>\n",
       "<table border=\"1\" class=\"dataframe\">\n",
       "  <thead>\n",
       "    <tr style=\"text-align: right;\">\n",
       "      <th></th>\n",
       "      <th>title</th>\n",
       "      <th>genre</th>\n",
       "      <th>overview</th>\n",
       "    </tr>\n",
       "  </thead>\n",
       "  <tbody>\n",
       "    <tr>\n",
       "      <th>0</th>\n",
       "      <td>The Godfather</td>\n",
       "      <td>[Drama, Crime]</td>\n",
       "      <td>[spanning, years, 1945, 1955, chronicle, ficti...</td>\n",
       "    </tr>\n",
       "    <tr>\n",
       "      <th>1</th>\n",
       "      <td>The Shawshank Redemption</td>\n",
       "      <td>[Drama, Crime]</td>\n",
       "      <td>[framed, 1940s, double, murder, wife, lover, u...</td>\n",
       "    </tr>\n",
       "    <tr>\n",
       "      <th>2</th>\n",
       "      <td>The Godfather Part II</td>\n",
       "      <td>[Drama, Crime]</td>\n",
       "      <td>[continuing, saga, corleone, crime, family, yo...</td>\n",
       "    </tr>\n",
       "    <tr>\n",
       "      <th>3</th>\n",
       "      <td>Schindler's List</td>\n",
       "      <td>[Drama, History, War]</td>\n",
       "      <td>[true, story, businessman, oskar, schindler, s...</td>\n",
       "    </tr>\n",
       "    <tr>\n",
       "      <th>4</th>\n",
       "      <td>Dilwale Dulhania Le Jayenge</td>\n",
       "      <td>[Comedy, Drama, Romance]</td>\n",
       "      <td>[raj, rich, carefree, happygolucky, second, ge...</td>\n",
       "    </tr>\n",
       "    <tr>\n",
       "      <th>...</th>\n",
       "      <td>...</td>\n",
       "      <td>...</td>\n",
       "      <td>...</td>\n",
       "    </tr>\n",
       "    <tr>\n",
       "      <th>9021</th>\n",
       "      <td>Disaster Movie</td>\n",
       "      <td>[Comedy, Science Fiction]</td>\n",
       "      <td>[filmmaking, team, behind, hits, scary, movie,...</td>\n",
       "    </tr>\n",
       "    <tr>\n",
       "      <th>9022</th>\n",
       "      <td>Battlefield Earth</td>\n",
       "      <td>[Action, Adventure, Science Fiction]</td>\n",
       "      <td>[year, 3000, man, match, psychlos, greedy, man...</td>\n",
       "    </tr>\n",
       "    <tr>\n",
       "      <th>9023</th>\n",
       "      <td>House of the Dead</td>\n",
       "      <td>[Horror, Action, Thriller]</td>\n",
       "      <td>[set, island, coast, techno, rave, party, attr...</td>\n",
       "    </tr>\n",
       "    <tr>\n",
       "      <th>9024</th>\n",
       "      <td>Dragonball Evolution</td>\n",
       "      <td>[Action, Adventure, Fantasy, Science Fiction, ...</td>\n",
       "      <td>[18th, birthday, goku, receives, mystical, dra...</td>\n",
       "    </tr>\n",
       "    <tr>\n",
       "      <th>9025</th>\n",
       "      <td>Birdemic: Shock and Terror</td>\n",
       "      <td>[Thriller, Fantasy, Romance, Horror, Science F...</td>\n",
       "      <td>[platoon, eagles, vultures, attacks, residents...</td>\n",
       "    </tr>\n",
       "  </tbody>\n",
       "</table>\n",
       "<p>9026 rows × 3 columns</p>\n",
       "</div>"
      ],
      "text/plain": [
       "                            title  ...                                           overview\n",
       "0                   The Godfather  ...  [spanning, years, 1945, 1955, chronicle, ficti...\n",
       "1        The Shawshank Redemption  ...  [framed, 1940s, double, murder, wife, lover, u...\n",
       "2           The Godfather Part II  ...  [continuing, saga, corleone, crime, family, yo...\n",
       "3                Schindler's List  ...  [true, story, businessman, oskar, schindler, s...\n",
       "4     Dilwale Dulhania Le Jayenge  ...  [raj, rich, carefree, happygolucky, second, ge...\n",
       "...                           ...  ...                                                ...\n",
       "9021               Disaster Movie  ...  [filmmaking, team, behind, hits, scary, movie,...\n",
       "9022            Battlefield Earth  ...  [year, 3000, man, match, psychlos, greedy, man...\n",
       "9023            House of the Dead  ...  [set, island, coast, techno, rave, party, attr...\n",
       "9024         Dragonball Evolution  ...  [18th, birthday, goku, receives, mystical, dra...\n",
       "9025   Birdemic: Shock and Terror  ...  [platoon, eagles, vultures, attacks, residents...\n",
       "\n",
       "[9026 rows x 3 columns]"
      ]
     },
     "execution_count": 164,
     "metadata": {},
     "output_type": "execute_result"
    }
   ],
   "source": [
    "df"
   ]
  },
  {
   "cell_type": "code",
   "execution_count": 166,
   "id": "d6c30954",
   "metadata": {},
   "outputs": [],
   "source": [
    "df.to_csv('movies_data.csv', index = False)"
   ]
  },
  {
   "cell_type": "code",
   "execution_count": null,
   "id": "026c1578",
   "metadata": {},
   "outputs": [],
   "source": []
  }
 ],
 "metadata": {
  "kernelspec": {
   "display_name": "Python 3 (ipykernel)",
   "language": "python",
   "name": "python3"
  },
  "language_info": {
   "codemirror_mode": {
    "name": "ipython",
    "version": 3
   },
   "file_extension": ".py",
   "mimetype": "text/x-python",
   "name": "python",
   "nbconvert_exporter": "python",
   "pygments_lexer": "ipython3",
   "version": "3.11.0"
  }
 },
 "nbformat": 4,
 "nbformat_minor": 5
}
